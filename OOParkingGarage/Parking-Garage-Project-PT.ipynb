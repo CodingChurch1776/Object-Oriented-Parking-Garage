{
 "cells": [
  {
   "cell_type": "markdown",
   "metadata": {},
   "source": [
    "# Parking Garage Project\n",
    "\n",
    "Your assignment for today is to create a parking garage class to get more familiar with Object Oriented Programming(OOP). \n",
    "\n",
    "Your parking gargage class should have the following methods:\n",
    "- takeTicket\n",
    "   - This should decrease the amount of tickets available by 1\n",
    "   - This should decrease the amount of parkingSpaces available by 1\n",
    "- payForParking\n",
    "   - Display an input that waits for an amount from the user and store it in a variable\n",
    "   - If the payment variable is not empty then ->  display a message to the user that their ticket has been paid and they have 15mins to leave\n",
    "   - This should update the \"currentTicket\" dictionary key \"paid\" to True\n",
    "- leaveGarage\n",
    "   - If the ticket has been paid, display a message of \"Thank You, have a nice day\"\n",
    "   - If the ticket has not been paid, display an input prompt for payment\n",
    "      - Once paid, display message \"Thank you, have a nice day!\"\n",
    "   - Update parkingSpaces list to increase by 1\n",
    "   - Update tickets list to increase by 1\n",
    "\n",
    "You will need a few attributes as well:\n",
    "- tickets -> list\n",
    "- parkingSpaces -> list\n",
    "- currentTicket -> dictionary"
   ]
  },
  {
   "cell_type": "code",
   "execution_count": 18,
   "metadata": {},
   "outputs": [
    {
     "ename": "SyntaxError",
     "evalue": "invalid syntax (<ipython-input-18-cf5abc786151>, line 5)",
     "output_type": "error",
     "traceback": [
      "\u001b[1;36m  File \u001b[1;32m\"<ipython-input-18-cf5abc786151>\"\u001b[1;36m, line \u001b[1;32m5\u001b[0m\n\u001b[1;33m    def__init__(self, tickets, parkingSpaces, currentTicket):\u001b[0m\n\u001b[1;37m                                                             ^\u001b[0m\n\u001b[1;31mSyntaxError\u001b[0m\u001b[1;31m:\u001b[0m invalid syntax\n"
     ]
    }
   ],
   "source": [
    "#Start your code here...\n",
    "\n",
    "\n",
    "runGarage()\n",
    "def__init__(self, tickets, parkingSpaces, currentTicket):\n",
    "        self.tickets\n",
    "        self.parkingSpaces\n",
    "        self.currentTicket\n",
    "\"\"\"runGarage will require 3 positional arguments:\n",
    "        tickets: which expectes to be a list\n",
    "        parkingSpaces: which expects to be a list\n",
    "        items: which expects to be a dictionary - list CAN be empty?\n",
    "\"\"\" \n",
    "\n",
    "\n",
    "\n",
    "\n",
    "\n",
    "#Method for taking ticket\n",
    "while True:  \n",
    "    tickets = [1,2,3,4,5,6,7,8,9,10]\n",
    "    parkingSpaces = [1,2,3,4,5,6,7,8,9,10]\n",
    "    currentTicket = {}\n",
    "        def taketicket(self):\n",
    "            print input(\"Welcome to Walker's Wheels West, would you like to park your car? Yes or No?\") \n",
    "            answer = input()\n",
    "        if answer = 'yes'\n",
    "            currentTicket.append(tickets[0])\n",
    "            parkingSpaces.remove()\n",
    "        elif parkingSpaces = []\n",
    "            print (\"Sorry, garage is currently full\")\n",
    "        elif answer = 'no'\n",
    "            break\n",
    "    print input(\"What would you like to do: Park, Pay or Leave?\")\n",
    "        if answer = 'Park'\n",
    "            print input(\"Welcome to Walker's Wheels West, would you like to park your car? Yes or No?\") \n",
    "            answer = input()\n",
    "            if answer = 'yes'\n",
    "                currentTicket.append(tickets[0])\n",
    "                parkingSpaces.remove()\n",
    "            elif parkingSpaces = []\n",
    "                print (\"Sorry, garage is currently full\")\n",
    "            elif answer = 'no'\n",
    "                break\n",
    "        elif answer = 'Pay'\n",
    "        def payforParking(self):\n",
    "            print input(\"Please enter ticket number\")\n",
    "            print \"please pay for your ticket\"\n",
    "            print input(\"Press any key to pay\")\n",
    "            if input = \" \":\n",
    "                break\n",
    "            else:\n",
    "                set value for ticket number in dictionary to \"paid\" - true key should be paid\n",
    "                print \"your ticket has been paid, you have 15 minutes to leave\n",
    "        elif answer = 'Leave\n",
    "        def leaveGarage(self):\n",
    "            print input(\"Please scan your ticket\") \n",
    "            answer = input()\n",
    "            if value for key[answer] = \"paid\"\n",
    "                print \"Thank you have a nice day\"\n",
    "                tickets.append(currentTicket)\n",
    "                parkingSpaces.append(currentTicket)\n",
    "            elif value for key[answer] != \"paid\n",
    "                print (\"please pay before exiting\")\n",
    "            elif answer.lower = 'no'\n",
    "                break\n",
    "            \n",
    "                \n",
    "                   \n",
    "            \n"
   ]
  },
  {
   "cell_type": "code",
   "execution_count": null,
   "metadata": {},
   "outputs": [],
   "source": []
  }
 ],
 "metadata": {
  "kernelspec": {
   "display_name": "Python 3",
   "language": "python",
   "name": "python3"
  },
  "language_info": {
   "codemirror_mode": {
    "name": "ipython",
    "version": 3
   },
   "file_extension": ".py",
   "mimetype": "text/x-python",
   "name": "python",
   "nbconvert_exporter": "python",
   "pygments_lexer": "ipython3",
   "version": "3.8.5"
  }
 },
 "nbformat": 4,
 "nbformat_minor": 2
}
